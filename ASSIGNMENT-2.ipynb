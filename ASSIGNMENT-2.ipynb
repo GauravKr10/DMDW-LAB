{
  "nbformat": 4,
  "nbformat_minor": 0,
  "metadata": {
    "colab": {
      "name": "Untitled3.ipynb",
      "provenance": [],
      "collapsed_sections": [],
      "authorship_tag": "ABX9TyPNCSF0ysYC0eCymnHPKw02",
      "include_colab_link": true
    },
    "kernelspec": {
      "name": "python3",
      "display_name": "Python 3"
    },
    "language_info": {
      "name": "python"
    }
  },
  "cells": [
    {
      "cell_type": "markdown",
      "metadata": {
        "id": "view-in-github",
        "colab_type": "text"
      },
      "source": [
        "<a href=\"https://colab.research.google.com/github/GauravKr10/DMDW-LAB/blob/main/ASSIGNMENT-2.ipynb\" target=\"_parent\"><img src=\"https://colab.research.google.com/assets/colab-badge.svg\" alt=\"Open In Colab\"/></a>"
      ]
    },
    {
      "cell_type": "markdown",
      "metadata": {
        "id": "m_yk5nhH_cne"
      },
      "source": [
        "10 MOST USED COMMAND IN NUMPY"
      ]
    },
    {
      "cell_type": "markdown",
      "metadata": {
        "id": "Wn6DtBIawC1i"
      },
      "source": [
        "1. Array"
      ]
    },
    {
      "cell_type": "code",
      "metadata": {
        "id": "fcYUUFSw_qnZ"
      },
      "source": [
        "import numpy as np"
      ],
      "execution_count": 1,
      "outputs": []
    },
    {
      "cell_type": "code",
      "metadata": {
        "id": "NNRMyMga_xWe",
        "colab": {
          "base_uri": "https://localhost:8080/"
        },
        "outputId": "fabc4501-13a8-4e15-a955-614c29b6dee2"
      },
      "source": [
        "arr = np.array([1,2,3,4])\n",
        "print(arr)\n",
        "print(type(arr))"
      ],
      "execution_count": 2,
      "outputs": [
        {
          "output_type": "stream",
          "name": "stdout",
          "text": [
            "[1 2 3 4]\n",
            "<class 'numpy.ndarray'>\n"
          ]
        }
      ]
    },
    {
      "cell_type": "markdown",
      "metadata": {
        "id": "T-0eitadwJCR"
      },
      "source": [
        "2. Empty()"
      ]
    },
    {
      "cell_type": "code",
      "metadata": {
        "colab": {
          "base_uri": "https://localhost:8080/"
        },
        "id": "A1BHXfpvwRBT",
        "outputId": "27d95bcb-8090-445d-8c2b-d7e2d97dc293"
      },
      "source": [
        "e = np.empty([2,2])\n",
        "print(e)"
      ],
      "execution_count": 3,
      "outputs": [
        {
          "output_type": "stream",
          "name": "stdout",
          "text": [
            "[[1. 1.]\n",
            " [1. 0.]]\n"
          ]
        }
      ]
    },
    {
      "cell_type": "markdown",
      "metadata": {
        "id": "S2ok-0Bc0LhL"
      },
      "source": [
        "3. Zeros()"
      ]
    },
    {
      "cell_type": "code",
      "metadata": {
        "colab": {
          "base_uri": "https://localhost:8080/"
        },
        "id": "H7HYJF_G0Ree",
        "outputId": "64be1d69-9516-4c36-ed9d-a15f67904498"
      },
      "source": [
        "b = np.zeros(2, dtype = int)\n",
        "print(b)"
      ],
      "execution_count": 4,
      "outputs": [
        {
          "output_type": "stream",
          "name": "stdout",
          "text": [
            "[0 0]\n"
          ]
        }
      ]
    },
    {
      "cell_type": "markdown",
      "metadata": {
        "id": "1o983_Mu0edm"
      },
      "source": [
        "4. ones()"
      ]
    },
    {
      "cell_type": "code",
      "metadata": {
        "colab": {
          "base_uri": "https://localhost:8080/"
        },
        "id": "NZU2BTjB0iVl",
        "outputId": "dc8455e9-fd52-4853-8b56-d08c2102528a"
      },
      "source": [
        "b = np.ones([2,2], dtype = int)\n",
        "print(b)"
      ],
      "execution_count": 5,
      "outputs": [
        {
          "output_type": "stream",
          "name": "stdout",
          "text": [
            "[[1 1]\n",
            " [1 1]]\n"
          ]
        }
      ]
    },
    {
      "cell_type": "markdown",
      "metadata": {
        "id": "5RSpMIBt0xbh"
      },
      "source": [
        "5. vstack()"
      ]
    },
    {
      "cell_type": "code",
      "metadata": {
        "colab": {
          "base_uri": "https://localhost:8080/"
        },
        "id": "wTg3rqbA02P2",
        "outputId": "db5bbe44-57e0-4624-949a-26b84b868e43"
      },
      "source": [
        "x = np.array([ 3,5,7] )\n",
        "print (\"1st Input array : \\n\", x) \n",
        "  \n",
        "y = np.array([ 5,7,9] )\n",
        "print (\"2nd Input array : \\n\", y) \n",
        "\n",
        "z = np.vstack((x,y))\n",
        "print (\"Output vertically stacked array:\\n \", z)"
      ],
      "execution_count": 10,
      "outputs": [
        {
          "output_type": "stream",
          "name": "stdout",
          "text": [
            "1st Input array : \n",
            " [3 5 7]\n",
            "2nd Input array : \n",
            " [5 7 9]\n",
            "Output vertically stacked array:\n",
            "  [[3 5 7]\n",
            " [5 7 9]]\n"
          ]
        }
      ]
    },
    {
      "cell_type": "markdown",
      "metadata": {
        "id": "5jd3jCOz2JDm"
      },
      "source": [
        "6. hstack()"
      ]
    },
    {
      "cell_type": "code",
      "metadata": {
        "colab": {
          "base_uri": "https://localhost:8080/"
        },
        "id": "S2bKuNwa2Nq0",
        "outputId": "6ad55fbd-e7d6-4d67-a93d-767b210b9784"
      },
      "source": [
        "x = np.array([ 3,5,7] )\n",
        "print (\"1st Input array : \\n\", x) \n",
        "  \n",
        "y = np.array([ 5,7,9] )\n",
        "print (\"2nd Input array : \\n\", y) \n",
        "\n",
        "z = np.hstack((x,y))\n",
        "print (\"Output vertically stacked array:\\n \", z)"
      ],
      "execution_count": 11,
      "outputs": [
        {
          "output_type": "stream",
          "name": "stdout",
          "text": [
            "1st Input array : \n",
            " [3 5 7]\n",
            "2nd Input array : \n",
            " [5 7 9]\n",
            "Output vertically stacked array:\n",
            "  [3 5 7 5 7 9]\n"
          ]
        }
      ]
    },
    {
      "cell_type": "markdown",
      "metadata": {
        "id": "avb0iYFY2bZc"
      },
      "source": [
        "7. indexing()"
      ]
    },
    {
      "cell_type": "code",
      "metadata": {
        "colab": {
          "base_uri": "https://localhost:8080/"
        },
        "id": "5xtsSFOf2fDL",
        "outputId": "c49c0730-4d4d-4172-fe1c-36d249ca2f8b"
      },
      "source": [
        "a = np.array([1,2,3,6,9])\n",
        "print(a[1])"
      ],
      "execution_count": 12,
      "outputs": [
        {
          "output_type": "stream",
          "name": "stdout",
          "text": [
            "2\n"
          ]
        }
      ]
    },
    {
      "cell_type": "markdown",
      "metadata": {
        "id": "yN-irtM_2uNk"
      },
      "source": [
        "8. slicing"
      ]
    },
    {
      "cell_type": "code",
      "metadata": {
        "colab": {
          "base_uri": "https://localhost:8080/"
        },
        "id": "tXpGEwlD2yZw",
        "outputId": "b1103c44-c58c-486d-dece-0d6a7d68511b"
      },
      "source": [
        "import numpy as np\n",
        "\n",
        "arr = np.array([1, 2, 3, 4, 5, 6, 7])\n",
        "\n",
        "print(arr[1:5])"
      ],
      "execution_count": 15,
      "outputs": [
        {
          "output_type": "stream",
          "name": "stdout",
          "text": [
            "[2 3 4 5]\n"
          ]
        }
      ]
    },
    {
      "cell_type": "markdown",
      "metadata": {
        "id": "6A7NqI_r3Zn-"
      },
      "source": [
        "9. shape()"
      ]
    },
    {
      "cell_type": "code",
      "metadata": {
        "colab": {
          "base_uri": "https://localhost:8080/"
        },
        "id": "60RzNk5M3cdv",
        "outputId": "9ecbcf5b-a5fa-4a2b-94f4-f34c0c112acf"
      },
      "source": [
        "import numpy as np\n",
        "a = np.array([[1,2,3] , [5,6,7]])\n",
        "print(a.shape)"
      ],
      "execution_count": 20,
      "outputs": [
        {
          "output_type": "stream",
          "name": "stdout",
          "text": [
            "(2, 3)\n"
          ]
        }
      ]
    },
    {
      "cell_type": "markdown",
      "metadata": {
        "id": "MlA1FK8o39AP"
      },
      "source": [
        "10. reshape()"
      ]
    },
    {
      "cell_type": "code",
      "metadata": {
        "colab": {
          "base_uri": "https://localhost:8080/"
        },
        "id": "-6zglBul4AJK",
        "outputId": "5e2b0fea-2db9-4cb6-818b-acee7bb84bc3"
      },
      "source": [
        "import numpy as np\n",
        "\n",
        "x = np.array([1, 2, 3, 4, 5, 6, 7, 8])\n",
        "\n",
        "newy = x.reshape(2, 4)\n",
        "\n",
        "print(newy)"
      ],
      "execution_count": 26,
      "outputs": [
        {
          "output_type": "stream",
          "name": "stdout",
          "text": [
            "[[1 2 3 4]\n",
            " [5 6 7 8]]\n"
          ]
        }
      ]
    },
    {
      "cell_type": "markdown",
      "metadata": {
        "id": "RZz77UIk5dYz"
      },
      "source": [
        "10. broadcast()"
      ]
    },
    {
      "cell_type": "code",
      "metadata": {
        "colab": {
          "base_uri": "https://localhost:8080/"
        },
        "id": "o76EH61h5ie2",
        "outputId": "d458492e-9cd5-43a5-83f5-0065cbe94f7b"
      },
      "source": [
        "a = np.array([1,2,3])\n",
        "b = np.array([4,5,6])\n",
        "c = a*b\n",
        "print (c)"
      ],
      "execution_count": 27,
      "outputs": [
        {
          "output_type": "stream",
          "name": "stdout",
          "text": [
            "[ 4 10 18]\n"
          ]
        }
      ]
    }
  ]
}