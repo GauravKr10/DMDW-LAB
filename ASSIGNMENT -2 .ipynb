{
  "nbformat": 4,
  "nbformat_minor": 0,
  "metadata": {
    "colab": {
      "name": "Untitled3.ipynb",
      "provenance": [],
      "collapsed_sections": [],
      "authorship_tag": "ABX9TyNJluhFO20U28Jc11IDIeJU",
      "include_colab_link": true
    },
    "kernelspec": {
      "name": "python3",
      "display_name": "Python 3"
    },
    "language_info": {
      "name": "python"
    }
  },
  "cells": [
    {
      "cell_type": "markdown",
      "metadata": {
        "id": "view-in-github",
        "colab_type": "text"
      },
      "source": [
        "<a href=\"https://colab.research.google.com/github/GauravKr10/DMDW-LAB/blob/main/ASSIGNMENT%20-2%20.ipynb\" target=\"_parent\"><img src=\"https://colab.research.google.com/assets/colab-badge.svg\" alt=\"Open In Colab\"/></a>"
      ]
    },
    {
      "cell_type": "markdown",
      "metadata": {
        "id": "m_yk5nhH_cne"
      },
      "source": [
        "# 10 MOST USED COMMAND IN NUMPY"
      ]
    },
    {
      "cell_type": "markdown",
      "metadata": {
        "id": "Wn6DtBIawC1i"
      },
      "source": [
        "# Array"
      ]
    },
    {
      "cell_type": "code",
      "metadata": {
        "id": "fcYUUFSw_qnZ"
      },
      "source": [
        "import numpy as np"
      ],
      "execution_count": 1,
      "outputs": []
    },
    {
      "cell_type": "code",
      "metadata": {
        "id": "NNRMyMga_xWe",
        "colab": {
          "base_uri": "https://localhost:8080/"
        },
        "outputId": "fabc4501-13a8-4e15-a955-614c29b6dee2"
      },
      "source": [
        "arr = np.array([1,2,3,4])\n",
        "print(arr)\n",
        "print(type(arr))"
      ],
      "execution_count": 2,
      "outputs": [
        {
          "output_type": "stream",
          "name": "stdout",
          "text": [
            "[1 2 3 4]\n",
            "<class 'numpy.ndarray'>\n"
          ]
        }
      ]
    },
    {
      "cell_type": "markdown",
      "metadata": {
        "id": "T-0eitadwJCR"
      },
      "source": [
        "# Empty()"
      ]
    },
    {
      "cell_type": "code",
      "metadata": {
        "colab": {
          "base_uri": "https://localhost:8080/"
        },
        "id": "A1BHXfpvwRBT",
        "outputId": "27d95bcb-8090-445d-8c2b-d7e2d97dc293"
      },
      "source": [
        "e = np.empty([2,2])\n",
        "print(e)"
      ],
      "execution_count": 3,
      "outputs": [
        {
          "output_type": "stream",
          "name": "stdout",
          "text": [
            "[[1. 1.]\n",
            " [1. 0.]]\n"
          ]
        }
      ]
    },
    {
      "cell_type": "markdown",
      "metadata": {
        "id": "S2ok-0Bc0LhL"
      },
      "source": [
        "# Zeros()"
      ]
    },
    {
      "cell_type": "code",
      "metadata": {
        "colab": {
          "base_uri": "https://localhost:8080/"
        },
        "id": "H7HYJF_G0Ree",
        "outputId": "64be1d69-9516-4c36-ed9d-a15f67904498"
      },
      "source": [
        "b = np.zeros(2, dtype = int)\n",
        "print(b)"
      ],
      "execution_count": 4,
      "outputs": [
        {
          "output_type": "stream",
          "name": "stdout",
          "text": [
            "[0 0]\n"
          ]
        }
      ]
    },
    {
      "cell_type": "markdown",
      "metadata": {
        "id": "1o983_Mu0edm"
      },
      "source": [
        "# ones()"
      ]
    },
    {
      "cell_type": "code",
      "metadata": {
        "colab": {
          "base_uri": "https://localhost:8080/"
        },
        "id": "NZU2BTjB0iVl",
        "outputId": "dc8455e9-fd52-4853-8b56-d08c2102528a"
      },
      "source": [
        "b = np.ones([2,2], dtype = int)\n",
        "print(b)"
      ],
      "execution_count": 5,
      "outputs": [
        {
          "output_type": "stream",
          "name": "stdout",
          "text": [
            "[[1 1]\n",
            " [1 1]]\n"
          ]
        }
      ]
    },
    {
      "cell_type": "markdown",
      "metadata": {
        "id": "5RSpMIBt0xbh"
      },
      "source": [
        "# vstack()"
      ]
    },
    {
      "cell_type": "code",
      "metadata": {
        "colab": {
          "base_uri": "https://localhost:8080/"
        },
        "id": "wTg3rqbA02P2",
        "outputId": "db5bbe44-57e0-4624-949a-26b84b868e43"
      },
      "source": [
        "x = np.array([ 3,5,7] )\n",
        "print (\"1st Input array : \\n\", x) \n",
        "  \n",
        "y = np.array([ 5,7,9] )\n",
        "print (\"2nd Input array : \\n\", y) \n",
        "\n",
        "z = np.vstack((x,y))\n",
        "print (\"Output vertically stacked array:\\n \", z)"
      ],
      "execution_count": 10,
      "outputs": [
        {
          "output_type": "stream",
          "name": "stdout",
          "text": [
            "1st Input array : \n",
            " [3 5 7]\n",
            "2nd Input array : \n",
            " [5 7 9]\n",
            "Output vertically stacked array:\n",
            "  [[3 5 7]\n",
            " [5 7 9]]\n"
          ]
        }
      ]
    },
    {
      "cell_type": "markdown",
      "metadata": {
        "id": "5jd3jCOz2JDm"
      },
      "source": [
        "# hstack()"
      ]
    },
    {
      "cell_type": "code",
      "metadata": {
        "colab": {
          "base_uri": "https://localhost:8080/"
        },
        "id": "S2bKuNwa2Nq0",
        "outputId": "6ad55fbd-e7d6-4d67-a93d-767b210b9784"
      },
      "source": [
        "x = np.array([ 3,5,7] )\n",
        "print (\"1st Input array : \\n\", x) \n",
        "  \n",
        "y = np.array([ 5,7,9] )\n",
        "print (\"2nd Input array : \\n\", y) \n",
        "\n",
        "z = np.hstack((x,y))\n",
        "print (\"Output vertically stacked array:\\n \", z)"
      ],
      "execution_count": 11,
      "outputs": [
        {
          "output_type": "stream",
          "name": "stdout",
          "text": [
            "1st Input array : \n",
            " [3 5 7]\n",
            "2nd Input array : \n",
            " [5 7 9]\n",
            "Output vertically stacked array:\n",
            "  [3 5 7 5 7 9]\n"
          ]
        }
      ]
    },
    {
      "cell_type": "markdown",
      "metadata": {
        "id": "avb0iYFY2bZc"
      },
      "source": [
        "# indexing()"
      ]
    },
    {
      "cell_type": "code",
      "metadata": {
        "colab": {
          "base_uri": "https://localhost:8080/"
        },
        "id": "5xtsSFOf2fDL",
        "outputId": "c49c0730-4d4d-4172-fe1c-36d249ca2f8b"
      },
      "source": [
        "a = np.array([1,2,3,6,9])\n",
        "print(a[1])"
      ],
      "execution_count": 12,
      "outputs": [
        {
          "output_type": "stream",
          "name": "stdout",
          "text": [
            "2\n"
          ]
        }
      ]
    },
    {
      "cell_type": "markdown",
      "metadata": {
        "id": "yN-irtM_2uNk"
      },
      "source": [
        "# slicing"
      ]
    },
    {
      "cell_type": "code",
      "metadata": {
        "colab": {
          "base_uri": "https://localhost:8080/"
        },
        "id": "tXpGEwlD2yZw",
        "outputId": "b1103c44-c58c-486d-dece-0d6a7d68511b"
      },
      "source": [
        "import numpy as np\n",
        "\n",
        "arr = np.array([1, 2, 3, 4, 5, 6, 7])\n",
        "\n",
        "print(arr[1:5])"
      ],
      "execution_count": 15,
      "outputs": [
        {
          "output_type": "stream",
          "name": "stdout",
          "text": [
            "[2 3 4 5]\n"
          ]
        }
      ]
    },
    {
      "cell_type": "markdown",
      "metadata": {
        "id": "6A7NqI_r3Zn-"
      },
      "source": [
        "# shape()"
      ]
    },
    {
      "cell_type": "code",
      "metadata": {
        "colab": {
          "base_uri": "https://localhost:8080/"
        },
        "id": "60RzNk5M3cdv",
        "outputId": "9ecbcf5b-a5fa-4a2b-94f4-f34c0c112acf"
      },
      "source": [
        "import numpy as np\n",
        "a = np.array([[1,2,3] , [5,6,7]])\n",
        "print(a.shape)"
      ],
      "execution_count": 20,
      "outputs": [
        {
          "output_type": "stream",
          "name": "stdout",
          "text": [
            "(2, 3)\n"
          ]
        }
      ]
    },
    {
      "cell_type": "markdown",
      "metadata": {
        "id": "MlA1FK8o39AP"
      },
      "source": [
        "# reshape()"
      ]
    },
    {
      "cell_type": "code",
      "metadata": {
        "colab": {
          "base_uri": "https://localhost:8080/"
        },
        "id": "-6zglBul4AJK",
        "outputId": "5e2b0fea-2db9-4cb6-818b-acee7bb84bc3"
      },
      "source": [
        "import numpy as np\n",
        "\n",
        "x = np.array([1, 2, 3, 4, 5, 6, 7, 8])\n",
        "\n",
        "newy = x.reshape(2, 4)\n",
        "\n",
        "print(newy)"
      ],
      "execution_count": 26,
      "outputs": [
        {
          "output_type": "stream",
          "name": "stdout",
          "text": [
            "[[1 2 3 4]\n",
            " [5 6 7 8]]\n"
          ]
        }
      ]
    },
    {
      "cell_type": "markdown",
      "metadata": {
        "id": "RZz77UIk5dYz"
      },
      "source": [
        "# broadcast()"
      ]
    },
    {
      "cell_type": "code",
      "metadata": {
        "colab": {
          "base_uri": "https://localhost:8080/"
        },
        "id": "o76EH61h5ie2",
        "outputId": "d458492e-9cd5-43a5-83f5-0065cbe94f7b"
      },
      "source": [
        "a = np.array([1,2,3])\n",
        "b = np.array([4,5,6])\n",
        "c = a*b\n",
        "print (c)"
      ],
      "execution_count": 27,
      "outputs": [
        {
          "output_type": "stream",
          "name": "stdout",
          "text": [
            "[ 4 10 18]\n"
          ]
        }
      ]
    },
    {
      "cell_type": "markdown",
      "metadata": {
        "id": "dQwRlNOR6Zn3"
      },
      "source": [
        "# Execute 5 most used command in pandas\n",
        "\n",
        "# dataframe()"
      ]
    },
    {
      "cell_type": "code",
      "metadata": {
        "id": "nzREXnCA6kKn"
      },
      "source": [
        "import pandas as pd"
      ],
      "execution_count": 31,
      "outputs": []
    },
    {
      "cell_type": "code",
      "metadata": {
        "colab": {
          "base_uri": "https://localhost:8080/"
        },
        "id": "yR0STnrg8G3Y",
        "outputId": "7e9275bf-3f19-4d55-f85e-f552641a7d82"
      },
      "source": [
        "\n",
        "\n",
        "lst = [1,2,3]\n",
        "\n",
        "df = pd.DataFrame(lst)\n",
        "print(df)"
      ],
      "execution_count": 33,
      "outputs": [
        {
          "output_type": "stream",
          "name": "stdout",
          "text": [
            "   0\n",
            "0  1\n",
            "1  2\n",
            "2  3\n"
          ]
        }
      ]
    },
    {
      "cell_type": "markdown",
      "metadata": {
        "id": "JenDJsKjJODt"
      },
      "source": [
        "# head()"
      ]
    },
    {
      "cell_type": "code",
      "metadata": {
        "colab": {
          "base_uri": "https://localhost:8080/",
          "height": 143
        },
        "id": "zTmkT4KDJQ37",
        "outputId": "db6cc661-f008-46dd-cd34-b80046f17686"
      },
      "source": [
        "df = pd.DataFrame({'animal':['snake', 'bat', 'tiger', 'lion',\n",
        "                   'fox', 'eagle', 'shark', 'dog', 'deer']})\n",
        "df\n",
        "df.head(3)"
      ],
      "execution_count": 37,
      "outputs": [
        {
          "output_type": "execute_result",
          "data": {
            "text/html": [
              "<div>\n",
              "<style scoped>\n",
              "    .dataframe tbody tr th:only-of-type {\n",
              "        vertical-align: middle;\n",
              "    }\n",
              "\n",
              "    .dataframe tbody tr th {\n",
              "        vertical-align: top;\n",
              "    }\n",
              "\n",
              "    .dataframe thead th {\n",
              "        text-align: right;\n",
              "    }\n",
              "</style>\n",
              "<table border=\"1\" class=\"dataframe\">\n",
              "  <thead>\n",
              "    <tr style=\"text-align: right;\">\n",
              "      <th></th>\n",
              "      <th>animal</th>\n",
              "    </tr>\n",
              "  </thead>\n",
              "  <tbody>\n",
              "    <tr>\n",
              "      <th>0</th>\n",
              "      <td>snake</td>\n",
              "    </tr>\n",
              "    <tr>\n",
              "      <th>1</th>\n",
              "      <td>bat</td>\n",
              "    </tr>\n",
              "    <tr>\n",
              "      <th>2</th>\n",
              "      <td>tiger</td>\n",
              "    </tr>\n",
              "  </tbody>\n",
              "</table>\n",
              "</div>"
            ],
            "text/plain": [
              "  animal\n",
              "0  snake\n",
              "1    bat\n",
              "2  tiger"
            ]
          },
          "metadata": {},
          "execution_count": 37
        }
      ]
    },
    {
      "cell_type": "markdown",
      "metadata": {
        "id": "5WGkO5iMK7vE"
      },
      "source": [
        "# loc()\n"
      ]
    },
    {
      "cell_type": "code",
      "metadata": {
        "colab": {
          "base_uri": "https://localhost:8080/"
        },
        "id": "6wLCvcTPK-MA",
        "outputId": "5e387eee-9c1d-4fc3-a062-3c79cab83022"
      },
      "source": [
        "import pandas as pd\n",
        "df = pd.DataFrame({'Weight':[45, 88, 56, 15, 71],\n",
        "                   'Name':['Sam', 'Andrea', 'Alex', 'Robin', 'Kia'],\n",
        "                   'Age':[14, 25, 55, 8, 21]})\n",
        "index_ = ['Row_1', 'Row_2', 'Row_3', 'Row_4', 'Row_5']\n",
        "  \n",
        "df.index = index_\n",
        "  \n",
        "print(df)\n",
        "result = df.loc['Row_2', 'Name']\n",
        "print(result)"
      ],
      "execution_count": 42,
      "outputs": [
        {
          "output_type": "stream",
          "name": "stdout",
          "text": [
            "       Weight    Name  Age\n",
            "Row_1      45     Sam   14\n",
            "Row_2      88  Andrea   25\n",
            "Row_3      56    Alex   55\n",
            "Row_4      15   Robin    8\n",
            "Row_5      71     Kia   21\n",
            "Andrea\n"
          ]
        }
      ]
    }
  ]
}