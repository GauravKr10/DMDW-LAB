{
  "nbformat": 4,
  "nbformat_minor": 0,
  "metadata": {
    "colab": {
      "name": "ASSIGNMENT_3.ipynb",
      "provenance": [],
      "collapsed_sections": [],
      "authorship_tag": "ABX9TyOY+zqefMmaU+GxYemff30F",
      "include_colab_link": true
    },
    "kernelspec": {
      "name": "python3",
      "display_name": "Python 3"
    },
    "language_info": {
      "name": "python"
    }
  },
  "cells": [
    {
      "cell_type": "markdown",
      "metadata": {
        "id": "view-in-github",
        "colab_type": "text"
      },
      "source": [
        "<a href=\"https://colab.research.google.com/github/GauravKr10/DMDW-LAB/blob/main/ASSIGNMENT_3.ipynb\" target=\"_parent\"><img src=\"https://colab.research.google.com/assets/colab-badge.svg\" alt=\"Open In Colab\"/></a>"
      ]
    },
    {
      "cell_type": "markdown",
      "metadata": {
        "id": "9Wp6uAD1tzHB"
      },
      "source": [
        "Variance of x , Variance of y : "
      ]
    },
    {
      "cell_type": "code",
      "metadata": {
        "colab": {
          "base_uri": "https://localhost:8080/"
        },
        "id": "6Lr_Z0oiqSb6",
        "outputId": "fe98c166-14a2-4d83-c8c1-cff2fbfb35d9"
      },
      "source": [
        "x=[7.8,8.2,8.7,9.2,9.5]\n",
        "y=[3,3.2,3.8,4.1,4.4]\n",
        "\n",
        "print(\"the original list is :\" + str(x))\n",
        "print(\"the original list is :\" + str(y))\n",
        "\n",
        "mean = sum(x) / len(x)\n",
        "res = sum((i - mean) ** 2 for i in x) / len(x)\n",
        "\n",
        "mean1= sum(y) / len(y)\n",
        "res1 = sum((i - mean1)** 2 for i in y)/ len(y)\n",
        "\n",
        "print(\"the variance of the list x is :\" + str(res))\n",
        "print(\"the variance of the list y is :\" + str(res1))"
      ],
      "execution_count": null,
      "outputs": [
        {
          "output_type": "stream",
          "name": "stdout",
          "text": [
            "the original list is :[7.8, 8.2, 8.7, 9.2, 9.5]\n",
            "the original list is :[3, 3.2, 3.8, 4.1, 4.4]\n",
            "the variance of the list x is :0.38960000000000006\n",
            "the variance of the list y is :0.27999999999999997\n"
          ]
        }
      ]
    },
    {
      "cell_type": "markdown",
      "metadata": {
        "id": "pUBC-t9ytxY6"
      },
      "source": [
        "Covariance between x and y"
      ]
    },
    {
      "cell_type": "code",
      "metadata": {
        "colab": {
          "base_uri": "https://localhost:8080/"
        },
        "id": "GfER3rC3uL73",
        "outputId": "6da1c340-e9c2-4e79-afe5-93f4f4cb15ef"
      },
      "source": [
        "import math\n",
        " \n",
        "\n",
        "def mean(arr, n):\n",
        "     \n",
        "    sum = 0\n",
        "    for i in range(0, n):\n",
        "        sum = sum + arr[i]\n",
        "     \n",
        "    return sum / n\n",
        " \n",
        "\n",
        "def covariance(x, y, n):\n",
        " \n",
        "    sum = 0\n",
        "    for i in range(0, n):\n",
        "        sum = (sum + (x[i] - mean(x, n)) *\n",
        "                      (y[i] - mean(y, n)))\n",
        "     \n",
        "    return sum / (n - 1)\n",
        " \n",
        "\n",
        "x = [7.8,8.2,8.7,9.2,9.5]\n",
        "n = len(x)\n",
        " \n",
        "y = [3,3.2,3.8,4.1,4.4]\n",
        "m = len(y)\n",
        " \n",
        "if (m == n):\n",
        "    print (covariance(x, y, m))"
      ],
      "execution_count": null,
      "outputs": [
        {
          "output_type": "stream",
          "name": "stdout",
          "text": [
            "0.41000000000000003\n"
          ]
        }
      ]
    },
    {
      "cell_type": "markdown",
      "metadata": {
        "id": "PEG30ql2wuAX"
      },
      "source": [
        "Correletion Coefficient "
      ]
    },
    {
      "cell_type": "code",
      "metadata": {
        "colab": {
          "base_uri": "https://localhost:8080/"
        },
        "id": "87eXYms0uuJt",
        "outputId": "3898fca2-a65e-4532-8c2d-9df0a0e77991"
      },
      "source": [
        "def correlationCoefficient(X, Y, n) :\n",
        "    sum_X = 0\n",
        "    sum_Y = 0\n",
        "    sum_XY = 0\n",
        "    squareSum_X = 0\n",
        "    squareSum_Y = 0\n",
        "      \n",
        "      \n",
        "    i = 0\n",
        "    while i < n :\n",
        "       \n",
        "        sum_X = sum_X + X[i]\n",
        "          \n",
        "        \n",
        "        sum_Y = sum_Y + Y[i]\n",
        "          \n",
        "        \n",
        "        sum_XY = sum_XY + X[i] * Y[i]\n",
        "          \n",
        "       \n",
        "        squareSum_X = squareSum_X + X[i] * X[i]\n",
        "        squareSum_Y = squareSum_Y + Y[i] * Y[i]\n",
        "          \n",
        "        i = i + 1\n",
        "       \n",
        "  \n",
        "    corr = (float)(n * sum_XY - sum_X * sum_Y)/ (float)(math.sqrt((n * squareSum_X - sum_X * sum_X)* (n * squareSum_Y - sum_Y * sum_Y)))\n",
        "    return corr\n",
        "      \n",
        "\n",
        "X = [7.8,8.2,8.7,9.2,9.5]\n",
        "Y = [3,3.2,3.8,4.1,4.4]\n",
        "       \n",
        "\n",
        "n = len(X)\n",
        "  \n",
        "\n",
        "print ('{0:.6f}'.format(correlationCoefficient(X, Y, n)))"
      ],
      "execution_count": null,
      "outputs": [
        {
          "output_type": "stream",
          "name": "stdout",
          "text": [
            "0.993083\n"
          ]
        }
      ]
    },
    {
      "cell_type": "markdown",
      "metadata": {
        "id": "gqP3M22jzRRX"
      },
      "source": [
        "**WITH USING LIBRARIES (numpy, scipy )**"
      ]
    },
    {
      "cell_type": "markdown",
      "metadata": {
        "id": "jM9gLU_8zqto"
      },
      "source": [
        "variance of x , variance of y"
      ]
    },
    {
      "cell_type": "code",
      "metadata": {
        "colab": {
          "base_uri": "https://localhost:8080/"
        },
        "id": "AWk1-YuHzxs2",
        "outputId": "7b04cb60-d3d8-42e6-c06a-28c7ea2eee10"
      },
      "source": [
        "import numpy as np\n",
        "x=[7.8,8.2,8.7,9.2,9.5]\n",
        "y=[3,3.2,3.8,4.1,4.4]\n",
        "\n",
        "print(\"arr :\", x)\n",
        "print(\"var of arr :\", np.var(x))\n",
        "\n",
        "print(\"arr :\" , y)\n",
        "print(\"var of arr\", np.var(y))"
      ],
      "execution_count": null,
      "outputs": [
        {
          "output_type": "stream",
          "name": "stdout",
          "text": [
            "arr : [7.8, 8.2, 8.7, 9.2, 9.5]\n",
            "var of arr : 0.38960000000000006\n",
            "arr : [3, 3.2, 3.8, 4.1, 4.4]\n",
            "var of arr 0.27999999999999997\n"
          ]
        }
      ]
    },
    {
      "cell_type": "markdown",
      "metadata": {
        "id": "vZIeNpGZaFHw"
      },
      "source": [
        "# standard deviation"
      ]
    },
    {
      "cell_type": "code",
      "metadata": {
        "id": "UfNTntFeaWiH"
      },
      "source": [
        "import numpy as np"
      ],
      "execution_count": 4,
      "outputs": []
    },
    {
      "cell_type": "code",
      "metadata": {
        "colab": {
          "base_uri": "https://localhost:8080/"
        },
        "id": "SWn79lKoabQm",
        "outputId": "acb37921-21b5-458c-debd-43e9dfed1cfc"
      },
      "source": [
        "lst = [4,5,8,9,10]\n",
        "SD = np.std(lst)\n",
        "print(SD)"
      ],
      "execution_count": 5,
      "outputs": [
        {
          "output_type": "stream",
          "name": "stdout",
          "text": [
            "2.3151673805580453\n"
          ]
        }
      ]
    },
    {
      "cell_type": "markdown",
      "metadata": {
        "id": "Raa4Fn56b4fd"
      },
      "source": [
        "# COVARIANCE"
      ]
    },
    {
      "cell_type": "code",
      "metadata": {
        "colab": {
          "base_uri": "https://localhost:8080/"
        },
        "id": "4frEIn6cb7up",
        "outputId": "573feccf-895b-4a5c-bf9d-a31b6585d768"
      },
      "source": [
        "import numpy as np\n",
        "x = np.array([[0,3,4], [1,2,4], [3,4,5]])\n",
        "print(np.cov(x))"
      ],
      "execution_count": 6,
      "outputs": [
        {
          "output_type": "stream",
          "name": "stdout",
          "text": [
            "[[4.33333333 2.83333333 2.        ]\n",
            " [2.83333333 2.33333333 1.5       ]\n",
            " [2.         1.5        1.        ]]\n"
          ]
        }
      ]
    },
    {
      "cell_type": "markdown",
      "metadata": {
        "id": "gi7DxhUicohH"
      },
      "source": [
        "# correlation coefficient"
      ]
    },
    {
      "cell_type": "code",
      "metadata": {
        "colab": {
          "base_uri": "https://localhost:8080/"
        },
        "id": "rreGFLycctH-",
        "outputId": "06af4801-f2d5-4fc5-ebe2-a557108f7123"
      },
      "source": [
        "import numpy as np\n",
        "x = np.random.random(20)\n",
        "y = np.random.random(20)\n",
        "\n",
        "x1 = np.mean(x)\n",
        "y1 = np.mean(y)\n",
        "t = np.sum((x-x1)*(y-y1))\n",
        "b = np.sqrt(np.sum(np.power(x-x1,2)) * np.power(y-y1,2))\n",
        "print(t/b)"
      ],
      "execution_count": 13,
      "outputs": [
        {
          "output_type": "stream",
          "name": "stdout",
          "text": [
            "[-0.39247884 -0.55385812 -0.4508598  -0.10337025 -0.18133247 -0.15797236\n",
            " -0.16494703 -0.15558868 -0.43656707 -0.19947826 -0.28005798 -0.14750348\n",
            " -0.85929785 -0.14718044 -0.30185257 -0.16489356 -0.29425325 -0.22467906\n",
            " -0.3884434  -0.40546632]\n"
          ]
        }
      ]
    }
  ]
}